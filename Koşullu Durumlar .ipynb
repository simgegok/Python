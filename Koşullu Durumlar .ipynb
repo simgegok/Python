{
 "cells": [
  {
   "cell_type": "markdown",
   "id": "fe6f8de9",
   "metadata": {},
   "source": [
    "# IF - ELİF - ELSE"
   ]
  },
  {
   "cell_type": "markdown",
   "id": "0f0e2bf9",
   "metadata": {},
   "source": [
    "## If "
   ]
  },
  {
   "cell_type": "markdown",
   "id": "8497cd5c",
   "metadata": {},
   "source": [
    "-Belirli bir koşulu kontrol etmek için kullanılan bloktur."
   ]
  },
  {
   "cell_type": "markdown",
   "id": "d29ef6eb",
   "metadata": {},
   "source": [
    "-\"Eğer koşul sağlanırsa\" anlamı taşır. Koşulun doğru olması durumunda if bloğu çalışır fakat doğru değilse, koşul sağlanmıyorsa if bloğu çalışmaz."
   ]
  },
  {
   "cell_type": "code",
   "execution_count": 1,
   "id": "2434a1b5",
   "metadata": {},
   "outputs": [
    {
     "name": "stdout",
     "output_type": "stream",
     "text": [
      "Lütfen dersten aldığınız notu giriniz:59\n",
      "Dersten kaldınız!\n"
     ]
    }
   ],
   "source": [
    "dersNotu = int(input(\"Lütfen dersten aldığınız notu giriniz:\"))\n",
    "\n",
    "if dersNotu < 60:\n",
    "    print(\"Dersten kaldınız!\")"
   ]
  },
  {
   "cell_type": "markdown",
   "id": "1f5f75eb",
   "metadata": {},
   "source": [
    "## Else"
   ]
  },
  {
   "cell_type": "markdown",
   "id": "58a3e641",
   "metadata": {},
   "source": [
    "-Kendisinden önceki koşul bloğunun sağlanmaması halinde else bloğu kontrol edilir. "
   ]
  },
  {
   "cell_type": "code",
   "execution_count": 3,
   "id": "51b359f7",
   "metadata": {},
   "outputs": [
    {
     "name": "stdout",
     "output_type": "stream",
     "text": [
      "Lütfen dersten aldığınız notu giriniz:61\n",
      "Tebrikler! Dersten geçtiniz.\n"
     ]
    }
   ],
   "source": [
    "dersNotu = int(input(\"Lütfen dersten aldığınız notu giriniz:\"))\n",
    "\n",
    "if dersNotu < 60:\n",
    "    print(\"Dersten kaldınız!\")\n",
    "else:\n",
    "    print(\"Tebrikler! Dersten geçtiniz.\")"
   ]
  },
  {
   "cell_type": "code",
   "execution_count": null,
   "id": "82ed7f5d",
   "metadata": {},
   "outputs": [],
   "source": [
    "print(\"\"\"\"****************************\n",
    "Hesap Makinesi Programı\n",
    "\n",
    "İşlemler;\n",
    "\n",
    "1. Toplama İşlemi\n",
    "\n",
    "2. Çıkarma İşlemi\n",
    "\n",
    "3. Bölme İşlemi\n",
    "\n",
    "4. Çarpma İşlemi\n",
    "*****************************\n",
    "\"\"\")\n",
    "a = int(input(\"Birinci Sayı:\"))\n",
    "b = int(input(\"İkinci Sayı:\"))\n",
    "\n",
    "işlem = input(\"İşlemi Giriniz:\")\n",
    "\n",
    "if işlem == \"1\":\n",
    "    print(\"{} ile {}'in toplamı {}'dır.\".format(a,b,a+b))\n",
    "if işlem == \"2\":\n",
    "    print(\"{} ile {}'in farkı {}'dır.\".format(a,b,a-b))\n",
    "if işlem == \"3\":\n",
    "    print(\"{} ile {}'in bölümü {}'dır.\".format(a,b,a/b))\n",
    "if işlem == \"4\":\n",
    "    print(\"{} ile {}'in çarpımı {}'dır.\".format(a,b,a*b))\n",
    "else:\n",
    "    print(\"Geçersiz İşlem!\")"
   ]
  },
  {
   "cell_type": "markdown",
   "id": "fe9c29b5",
   "metadata": {},
   "source": [
    "## Elif"
   ]
  },
  {
   "cell_type": "markdown",
   "id": "e361f1b0",
   "metadata": {},
   "source": [
    "-Birden fazla koşulumuzun olduğu durumlarda da Elif bize yardımcı olur. Else bloğuna koşul yazdıramadığımız için if bloğundan sonra elif bloğuna birden fazla koşulumuzu yazdırabiliriz."
   ]
  },
  {
   "cell_type": "code",
   "execution_count": 1,
   "id": "599d04cf",
   "metadata": {},
   "outputs": [
    {
     "name": "stdout",
     "output_type": "stream",
     "text": [
      "Kullanıcı Adı:simggee\n",
      "Parola:55465\n",
      "Kullanıcı Adı ve Parola Hatalı!\n"
     ]
    }
   ],
   "source": [
    "sys_kullanici_adi = \"simmgge\"\n",
    "sys_parola = \"55555\"\n",
    "\n",
    "kullanici_adi = input(\"Kullanıcı Adı:\")\n",
    "parola = input(\"Parola:\")\n",
    "\n",
    "if (kullanici_adi == sys_kullanici_adi) and (parola != sys_parola):\n",
    "    print(\"Parola Hatalı!\")\n",
    "elif (kullanici_adi != sys_kullanici_adi) and (parola == sys_parola):\n",
    "    print(\"Kullanıcı Adı Hatalı!\")\n",
    "elif (kullanici_adi != sys_kullanici_adi) and (parola != sys_parola):\n",
    "    print(\"Kullanıcı Adı ve Parola Hatalı!\")\n",
    "else:\n",
    "    print(\"Sisteme Başarıyla Giriş Yapıldı!\")"
   ]
  },
  {
   "cell_type": "markdown",
   "id": "cc00ee69",
   "metadata": {},
   "source": [
    "### Alıştırmalar"
   ]
  },
  {
   "cell_type": "markdown",
   "id": "6704609c",
   "metadata": {},
   "source": [
    "#### Problem 1 :"
   ]
  },
  {
   "cell_type": "markdown",
   "id": "bcccea6f",
   "metadata": {},
   "source": [
    "Kullanıcıdan alınan boy ve kilo değerlerine göre beden kitle indeksini hesaplayın ve şu kurallara göre ekrana şu yazıları yazdırın.\n",
    "\n",
    " Beden Kitle İndeksi: Kilo / Boy(m) *  Boy(m)\n",
    "\n",
    " BKİ 18.5'un altındaysa -------> Zayıf\n",
    "\n",
    " BKİ 18.5 ile 25 arasındaysa ------> Normal\n",
    "\n",
    " BKİ 25 ile 30 arasındaysa --------> Fazla Kilolu\n",
    "\n",
    " BKİ 30'un üstündeyse -------------> Obez"
   ]
  },
  {
   "cell_type": "code",
   "execution_count": 42,
   "id": "6dd583f5",
   "metadata": {},
   "outputs": [
    {
     "name": "stdout",
     "output_type": "stream",
     "text": [
      "Lütfen boyunuzu belirtilen alana giriniz:169\n",
      "Lütfen kilonuzu belirtilen alana giriniz:70\n",
      "Beden Kitle İndeksiniz normal seviyede, sağlıklısınız.\n"
     ]
    }
   ],
   "source": [
    "boy = int(input(\"Lütfen boyunuzu belirtilen alana giriniz:\"))\n",
    "kilo = int(input(\"Lütfen kilonuzu belirtilen alana giriniz:\"))\n",
    "\n",
    "bedenKitleIndeksi = int((boy ** 2) / kilo)\n",
    "\n",
    "if bedenKitleIndeksi < 18.5:\n",
    "    print(\"Beden Kitle İndeksinize göre zayıf kategorisindesiniz, destek almalısınız.\")\n",
    "elif bedenKitleIndeksi > 18.5:\n",
    "    print(\"Beden Kitle İndeksiniz normal seviyede, sağlıklısınız.\")\n",
    "elif bedenKitleIndeksi < 25:\n",
    "    print(\"Beden Kitle İndeksinize göre kilolu kategorisindesiniz, dikkat etmelisiniz.\")\n",
    "elif bedenKitleIndeksi > 30:\n",
    "    print(\"Beden Kitle İndeksinize göre obez kategorisindesiniz, destek almalısınız.\")"
   ]
  },
  {
   "cell_type": "markdown",
   "id": "bea6c6fa",
   "metadata": {},
   "source": [
    "#### Problem 2 :"
   ]
  },
  {
   "cell_type": "markdown",
   "id": "4014fc69",
   "metadata": {},
   "source": [
    "Kullanıcıdan 3 tane sayı alın ve en büyük sayıyı ekrana yazdırın."
   ]
  },
  {
   "cell_type": "code",
   "execution_count": 45,
   "id": "b696e555",
   "metadata": {},
   "outputs": [
    {
     "name": "stdout",
     "output_type": "stream",
     "text": [
      "x:12\n",
      "y:25\n",
      "z:85\n",
      "En büyük sayı: 85\n"
     ]
    }
   ],
   "source": [
    "x =  int(input(\"x:\"))\n",
    "y = int(input(\"y:\"))\n",
    "z = int(input(\"z:\"))\n",
    "\n",
    "if (x >= y and x >= z):\n",
    "    print(\"En büyük sayı:\",x)\n",
    "elif (y >= x and y >= z):\n",
    "    print(\"En büyük sayı:\",y)\n",
    "elif (z >= x and z >= y):\n",
    "    print(\"En büyük sayı:\",z)"
   ]
  },
  {
   "cell_type": "markdown",
   "id": "8b09f807",
   "metadata": {},
   "source": [
    "#### Problem 3 :"
   ]
  },
  {
   "cell_type": "markdown",
   "id": "e47d7fc0",
   "metadata": {},
   "source": [
    "Kullanıcının girdiği vize1,vize2,final notlarına göre harf notunu hesaplayın.\n",
    "\n",
    "    Vize1 toplam notun %30'una etki edecek.\n",
    "\n",
    "    Vize2 toplam notun %30'una etki edecek.\n",
    "\n",
    "    Final toplam notun %40'ına etki edecek.\n",
    "\n",
    "\n",
    "    Toplam Not >=  90 -----> AA\n",
    "\n",
    "    Toplam Not >=  85 -----> BA\n",
    "\n",
    "    Toplam Not >=  80 -----> BB\n",
    "\n",
    "    Toplam Not >=  75 -----> CB\n",
    "\n",
    "    Toplam Not >=  70 -----> CC\n",
    "\n",
    "    Toplam Not >=  65 -----> DC\n",
    "\n",
    "    Toplam Not >=  60 -----> DD\n",
    "\n",
    "    Toplam Not >=  55 -----> FD\n",
    "\n",
    "    Toplam Not <  55 -----> FF"
   ]
  },
  {
   "cell_type": "code",
   "execution_count": 46,
   "id": "cdd9dddb",
   "metadata": {},
   "outputs": [
    {
     "name": "stdout",
     "output_type": "stream",
     "text": [
      "Birinci Vize Notu:45\n",
      "İkinci Vize Notu:80\n",
      "Final Notu:60\n",
      "Harf Notunuz : DD\n"
     ]
    }
   ],
   "source": [
    "vize1 = int(input(\"Birinci Vize Notu:\"))\n",
    "vize2 = int(input(\"İkinci Vize Notu:\"))\n",
    "final= int(input(\"Final Notu:\"))\n",
    "\n",
    "gno =  (vize1 * 3/10) + (vize2 * 3/10) + (final * 4/10)\n",
    "\n",
    "if gno >= 90:\n",
    "    print(\"Harf Notunuz : AA\")\n",
    "elif gno >= 85:\n",
    "    print(\"Harf Notunuz : BA\")\n",
    "elif gno >= 80:\n",
    "    print(\"Harf Notunuz : BB\")\n",
    "elif gno >= 75:\n",
    "    print(\"Harf Notunuz : CB\")\n",
    "elif gno >= 70:\n",
    "    print(\"Harf Notunuz : CC\")\n",
    "elif gno >= 65:\n",
    "    print(\"Harf Notunuz : DC\")\n",
    "elif gno >= 60:\n",
    "    print(\"Harf Notunuz : DD\")\n",
    "elif gno >= 55:\n",
    "    print(\"Harf Notunuz : FD\")\n",
    "else:\n",
    "    print(\"Harf Notunuz: FF / Dersten Kaldınız!\")"
   ]
  },
  {
   "cell_type": "markdown",
   "id": "2684fc42",
   "metadata": {},
   "source": [
    "#### Problem 4 :"
   ]
  },
  {
   "cell_type": "markdown",
   "id": "321ef87a",
   "metadata": {},
   "source": [
    "İlk olarak kullanıcıdan üçgenin mi dörtgenin mi tipini bulmak istediğini sorun.\n",
    "\n",
    "Eğer kullanıcı \"Dörtgen\" cevabını verirse , 4 tane kenar isteyip bu dörtgenin kare mi , dikdörtgen mi yoksa sıradan bir dörtgen mi olduğunu bulmaya çalışın.\n",
    "\n",
    "Eğer kullanıcı \"Üçgen\" cevabını verirse , 3 tane kenar isteyip bu üçgenin ikizkenar mı , eşkenar mı yoksa sıradan bir üçgen mi olduğunu bulmaya çalışın. Eğer verilen kenarlar bir üçgen belirtmiyorsa, ekrana \"Üçgen belirtmiyor\" şeklinde bir yazı yazın."
   ]
  },
  {
   "cell_type": "code",
   "execution_count": 2,
   "id": "33ef5ebd",
   "metadata": {},
   "outputs": [
    {
     "name": "stdout",
     "output_type": "stream",
     "text": [
      "Bulmak istediğiniz şekil tipini yazınız: dörtgen\n",
      "Kenar Ölçülerini Giriniz:\n",
      "1. Kenar: 40\n",
      "2. Kenar: 40\n",
      "3. Kenar: 20\n",
      "4. Kenar: 20\n",
      "Şekil Dörtgendir.\n"
     ]
    }
   ],
   "source": [
    "soru = input(\"Bulmak istediğiniz şekil tipini yazınız: \")\n",
    "\n",
    "if soru == \"dörtgen\":\n",
    "    print(\"Kenar Ölçülerini Giriniz:\")\n",
    "    a = int(input(\"1. Kenar: \"))\n",
    "    b = int(input(\"2. Kenar: \"))\n",
    "    c = int(input(\"3. Kenar: \"))\n",
    "    d = int(input(\"4. Kenar: \"))\n",
    "    if a == b and a == c and a == d:\n",
    "        print(\"Şekil Karedir.\")\n",
    "    elif a == c and b == d:\n",
    "        print(\"Şekil Dikdörtgendir.\")\n",
    "    else:\n",
    "        print(\"Şekil Dörtgendir.\")\n",
    "\n",
    "elif soru == \"üçgen\":\n",
    "    print(\"Kenar Ölçülerini Giriniz:\")\n",
    "    e = int(input(\"1. Kenar: \"))\n",
    "    f = int(input(\"2. Kenar: \"))\n",
    "    g = int(input(\"3. Kenar: \"))\n",
    "    if abs(e+f) > g and abs(e+g) > f and abs(f+g) > e:\n",
    "        if e == f and e == g:\n",
    "            print(\"Eşkenar Üçgendir.\")\n",
    "        elif (e == f and e != g) or (e == g and e != f) or (f == g and f != e):\n",
    "            print(\"İkizkenar Üçgendir.\")\n",
    "        else:\n",
    "            print(\"Çeşitkenar Üçgendir.\")\n",
    "    else:\n",
    "        print(\"Üçgen belirtmiyor!\")"
   ]
  },
  {
   "cell_type": "markdown",
   "id": "5bf7687d",
   "metadata": {},
   "source": [
    "*** Alıştırma soruları Udemy - Mustafa Murat Coşkun/ Python Eğitimi bölüm ödev sorularıdır. Soruların cevap kodları şahsıma aittir."
   ]
  }
 ],
 "metadata": {
  "kernelspec": {
   "display_name": "Python 3 (ipykernel)",
   "language": "python",
   "name": "python3"
  },
  "language_info": {
   "codemirror_mode": {
    "name": "ipython",
    "version": 3
   },
   "file_extension": ".py",
   "mimetype": "text/x-python",
   "name": "python",
   "nbconvert_exporter": "python",
   "pygments_lexer": "ipython3",
   "version": "3.11.5"
  }
 },
 "nbformat": 4,
 "nbformat_minor": 5
}
