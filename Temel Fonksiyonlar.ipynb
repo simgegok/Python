{
 "cells": [
  {
   "cell_type": "markdown",
   "id": "a12a7137",
   "metadata": {},
   "source": [
    "## Değişkenler (Variables)"
   ]
  },
  {
   "cell_type": "markdown",
   "id": "8b0c51e9",
   "metadata": {},
   "source": [
    "Değişkenler, herhangi bir veri içeren ifadelerdir."
   ]
  },
  {
   "cell_type": "markdown",
   "id": "6409ad6b",
   "metadata": {},
   "source": [
    "-İstenilen veri tipine sahip olabilirler, veri tipi belirtilme zorunluluğu yoktur."
   ]
  },
  {
   "cell_type": "code",
   "execution_count": 4,
   "id": "697d70aa",
   "metadata": {},
   "outputs": [
    {
     "data": {
      "text/plain": [
       "str"
      ]
     },
     "execution_count": 4,
     "metadata": {},
     "output_type": "execute_result"
    }
   ],
   "source": [
    "name = \"Simge\"\n",
    "type(name)"
   ]
  },
  {
   "cell_type": "code",
   "execution_count": 5,
   "id": "cb67bd86",
   "metadata": {},
   "outputs": [
    {
     "data": {
      "text/plain": [
       "int"
      ]
     },
     "execution_count": 5,
     "metadata": {},
     "output_type": "execute_result"
    }
   ],
   "source": [
    "year = 2003\n",
    "type(year)"
   ]
  },
  {
   "cell_type": "markdown",
   "id": "4275c8cc",
   "metadata": {},
   "source": [
    "Eğer veri tipi belirtilerek atama yapılmak isteniyorsa da aşağıdaki şekilde yapıyoruz;"
   ]
  },
  {
   "cell_type": "code",
   "execution_count": 10,
   "id": "51f873c0",
   "metadata": {},
   "outputs": [
    {
     "name": "stdout",
     "output_type": "stream",
     "text": [
      "Simge35\n",
      "897\n",
      "897.0\n"
     ]
    }
   ],
   "source": [
    "a = str(\"Simge35\")\n",
    "b = int(897)\n",
    "c = float(897)\n",
    "\n",
    "print(a)\n",
    "print(b)\n",
    "print(c)"
   ]
  },
  {
   "cell_type": "markdown",
   "id": "48f7e9ab",
   "metadata": {},
   "source": [
    "-Değişken adları büyük/küçük harfe duyarlıdır. Örnek vermek gerekirse; büyük A ile atanan değer ve küçük a ile atanan değer farklı değişkenlerdir."
   ]
  },
  {
   "cell_type": "code",
   "execution_count": 11,
   "id": "b8af6293",
   "metadata": {},
   "outputs": [
    {
     "name": "stdout",
     "output_type": "stream",
     "text": [
      "Sel\n",
      "56\n"
     ]
    }
   ],
   "source": [
    "A = 56\n",
    "a = \"Sel\"\n",
    "\n",
    "print(a)\n",
    "print(A)"
   ]
  },
  {
   "cell_type": "code",
   "execution_count": 12,
   "id": "5e340015",
   "metadata": {},
   "outputs": [
    {
     "ename": "NameError",
     "evalue": "name 'B' is not defined",
     "output_type": "error",
     "traceback": [
      "\u001b[1;31m---------------------------------------------------------------------------\u001b[0m",
      "\u001b[1;31mNameError\u001b[0m                                 Traceback (most recent call last)",
      "Cell \u001b[1;32mIn[12], line 3\u001b[0m\n\u001b[0;32m      1\u001b[0m b \u001b[38;5;241m=\u001b[39m \u001b[38;5;241m45\u001b[39m\n\u001b[1;32m----> 3\u001b[0m B\n",
      "\u001b[1;31mNameError\u001b[0m: name 'B' is not defined"
     ]
    }
   ],
   "source": [
    "#Yani bu şekilde küçük harfle atanan bir değeri büyük harfle yazdırmaya çalışırsanız hata alırsınız.\n",
    "\n",
    "b = 45\n",
    "\n",
    "B"
   ]
  },
  {
   "cell_type": "markdown",
   "id": "c8bc7a8b",
   "metadata": {},
   "source": [
    "-Değişken adları sayıyla, \"_\" (alt çizgi) haricindeki sembollerle, Python anahtar sözcükleriyle(print, try gibi...) başlayamaz.\n",
    "Eğer değişken adı birden fazla kelimeden oluşuyorsa boşluk bulunamaz.\n",
    "    Örnek vermek gerekirse; \n",
    "Snake case = simge_gök,\n",
    "Camel case = simgeGök, \n",
    "Pascal case = SimgeGök olabilir."
   ]
  },
  {
   "cell_type": "markdown",
   "id": "df670f8c",
   "metadata": {},
   "source": [
    "-Farklı değişkenlere aynı değeri atamak mümkündür. Örneğin;"
   ]
  },
  {
   "cell_type": "code",
   "execution_count": 14,
   "id": "f284c724",
   "metadata": {},
   "outputs": [
    {
     "name": "stdout",
     "output_type": "stream",
     "text": [
      "Home\n",
      "Home\n",
      "Home\n"
     ]
    }
   ],
   "source": [
    "a = b = c = \"Home\"\n",
    "\n",
    "print(a)\n",
    "print(b)\n",
    "print(c)"
   ]
  },
  {
   "cell_type": "markdown",
   "id": "e86f97d1",
   "metadata": {},
   "source": [
    "## Veri Tipleri (Data Types)"
   ]
  },
  {
   "cell_type": "markdown",
   "id": "bc974511",
   "metadata": {},
   "source": [
    "#### 1- Metinsel Veri Tipi (String)"
   ]
  },
  {
   "cell_type": "markdown",
   "id": "a6ec031a",
   "metadata": {},
   "source": [
    "Tırnak işaretleri içinde atanan değerlerdir. Tek tırnak işaretiyle veya çift tırnak işaretiyle kullanılabilir. Fakat cümle başlangıcında çift tırnak, cümle sonunda tek tırnak şeklinde kullanılamaz."
   ]
  },
  {
   "cell_type": "markdown",
   "id": "c19186d2",
   "metadata": {},
   "source": [
    "-Artı (+) işareti kelimeleri birleştirmek için kullanılır."
   ]
  },
  {
   "cell_type": "code",
   "execution_count": 19,
   "id": "c4580180",
   "metadata": {},
   "outputs": [
    {
     "name": "stdout",
     "output_type": "stream",
     "text": [
      "Merhaba!\n"
     ]
    }
   ],
   "source": [
    "a = \"Mer\"\n",
    "b = \"ha\"\n",
    "c = \"ba!\"\n",
    "\n",
    "print(a+b+c)"
   ]
  },
  {
   "cell_type": "markdown",
   "id": "7720aa22",
   "metadata": {},
   "source": [
    "##### String Fonksiyonları"
   ]
  },
  {
   "cell_type": "markdown",
   "id": "bc31fd9b",
   "metadata": {},
   "source": [
    "len() : Kelime uzunluğunu almak için kullanılır."
   ]
  },
  {
   "cell_type": "code",
   "execution_count": 20,
   "id": "89057be2",
   "metadata": {},
   "outputs": [
    {
     "data": {
      "text/plain": [
       "6"
      ]
     },
     "execution_count": 20,
     "metadata": {},
     "output_type": "execute_result"
    }
   ],
   "source": [
    "a = \"Selam!\"\n",
    "\n",
    "len(a)"
   ]
  },
  {
   "cell_type": "markdown",
   "id": "9a08190c",
   "metadata": {},
   "source": [
    "strip() : Değerin başındaki ve sonundaki tüm boşlukları kaldırır."
   ]
  },
  {
   "cell_type": "code",
   "execution_count": 22,
   "id": "3692e82d",
   "metadata": {},
   "outputs": [
    {
     "name": "stdout",
     "output_type": "stream",
     "text": [
      "Selam!\n"
     ]
    }
   ],
   "source": [
    "a = \"   Selam!   \"\n",
    "\n",
    "print(a.strip())"
   ]
  },
  {
   "cell_type": "markdown",
   "id": "cc9e63c4",
   "metadata": {},
   "source": [
    "upper() : Değeri büyük harfler haline getirir."
   ]
  },
  {
   "cell_type": "code",
   "execution_count": 24,
   "id": "a32907bd",
   "metadata": {},
   "outputs": [
    {
     "name": "stdout",
     "output_type": "stream",
     "text": [
      "SIMGE GÖK\n"
     ]
    }
   ],
   "source": [
    "name = \"simge gök\"\n",
    "\n",
    "print(name.upper())"
   ]
  },
  {
   "cell_type": "markdown",
   "id": "740ed32e",
   "metadata": {},
   "source": [
    "lower() : Değeri küçük harfler haline getirir."
   ]
  },
  {
   "cell_type": "code",
   "execution_count": 25,
   "id": "79ed60f0",
   "metadata": {},
   "outputs": [
    {
     "name": "stdout",
     "output_type": "stream",
     "text": [
      "simge gök\n"
     ]
    }
   ],
   "source": [
    "name = \"SIMGE GÖK\"\n",
    "\n",
    "print(name.lower())"
   ]
  },
  {
   "cell_type": "markdown",
   "id": "6f66d804",
   "metadata": {},
   "source": [
    "replace() : Bir değerin başka bir değer ile değiştirilmesine yarar."
   ]
  },
  {
   "cell_type": "code",
   "execution_count": 27,
   "id": "92d22aba",
   "metadata": {},
   "outputs": [
    {
     "name": "stdout",
     "output_type": "stream",
     "text": [
      "Ayşe gök\n"
     ]
    }
   ],
   "source": [
    "name = \"simge gök\"\n",
    "\n",
    "print(name.replace('simge', 'Ayşe'))"
   ]
  },
  {
   "cell_type": "markdown",
   "id": "ed315057",
   "metadata": {},
   "source": [
    "split() : Değeri alt parçalara böler."
   ]
  },
  {
   "cell_type": "code",
   "execution_count": 28,
   "id": "fe79ff44",
   "metadata": {},
   "outputs": [
    {
     "name": "stdout",
     "output_type": "stream",
     "text": [
      "['Ayşe', 'Gök']\n"
     ]
    }
   ],
   "source": [
    "name = \"Ayşe Gök\"\n",
    "\n",
    "print(name.split(' '))"
   ]
  },
  {
   "cell_type": "markdown",
   "id": "0e7fa9c0",
   "metadata": {},
   "source": [
    "\\n Karakteri : Alt satırda yazdırma işlemine devam edilmesini sağlar."
   ]
  },
  {
   "cell_type": "code",
   "execution_count": 29,
   "id": "ade4e204",
   "metadata": {},
   "outputs": [
    {
     "name": "stdout",
     "output_type": "stream",
     "text": [
      "Merhaba\n",
      "Nasılsın\n",
      "Her şey\n",
      "Yolunda mı?\n"
     ]
    }
   ],
   "source": [
    "print(\"Merhaba\\nNasılsın\\nHer şey\\nYolunda mı?\")"
   ]
  },
  {
   "cell_type": "markdown",
   "id": "91cbfecb",
   "metadata": {},
   "source": [
    "\\t Karakteri : Bir tab boşluk bırakarak yazdırma işlemine devam edilmesini sağlar."
   ]
  },
  {
   "cell_type": "code",
   "execution_count": 33,
   "id": "00a66e6a",
   "metadata": {},
   "outputs": [
    {
     "name": "stdout",
     "output_type": "stream",
     "text": [
      "October \tNovember\tDecember\n"
     ]
    }
   ],
   "source": [
    "print(\"October \\tNovember\\tDecember\")"
   ]
  },
  {
   "cell_type": "markdown",
   "id": "8c742bc7",
   "metadata": {},
   "source": [
    "sep parametresi : Yazdırdığımız değerlerin arasına istediğimiz karakterlerin yerleştirilmesini sağlar."
   ]
  },
  {
   "cell_type": "code",
   "execution_count": 34,
   "id": "807d0040",
   "metadata": {},
   "outputs": [
    {
     "name": "stdout",
     "output_type": "stream",
     "text": [
      "Merhaba\n",
      "Nasılsın\n",
      "Her şey\n",
      "Yolunda mı?\n"
     ]
    }
   ],
   "source": [
    "print(\"Merhaba\", \"Nasılsın\", \"Her şey\", \"Yolunda mı?\", sep = \"\\n\")"
   ]
  },
  {
   "cell_type": "code",
   "execution_count": 35,
   "id": "db2831c5",
   "metadata": {},
   "outputs": [
    {
     "name": "stdout",
     "output_type": "stream",
     "text": [
      "17/03/2003\n"
     ]
    }
   ],
   "source": [
    "print(\"17\", \"03\", \"2003\", sep = \"/\")"
   ]
  },
  {
   "cell_type": "markdown",
   "id": "31065183",
   "metadata": {},
   "source": [
    "#### 2- Set "
   ]
  },
  {
   "cell_type": "markdown",
   "id": "dfe93038",
   "metadata": {},
   "source": [
    "Listelerden küme oluşturan veri setidir."
   ]
  },
  {
   "cell_type": "code",
   "execution_count": 36,
   "id": "9bca8643",
   "metadata": {},
   "outputs": [
    {
     "data": {
      "text/plain": [
       "{5, 6, 9}"
      ]
     },
     "execution_count": 36,
     "metadata": {},
     "output_type": "execute_result"
    }
   ],
   "source": [
    "a = set([5,6,9])\n",
    "\n",
    "a"
   ]
  },
  {
   "cell_type": "markdown",
   "id": "6182c91a",
   "metadata": {},
   "source": [
    "#### Set Fonksiyonları"
   ]
  },
  {
   "cell_type": "markdown",
   "id": "966ba844",
   "metadata": {},
   "source": [
    "difference() : Bir kümede olan, diğer kümede olmayan değeri döndürür. Bu fonksiyon yerine (-) de kullanılabilir."
   ]
  },
  {
   "cell_type": "code",
   "execution_count": 1,
   "id": "5043b4d7",
   "metadata": {},
   "outputs": [
    {
     "data": {
      "text/plain": [
       "{9}"
      ]
     },
     "execution_count": 1,
     "metadata": {},
     "output_type": "execute_result"
    }
   ],
   "source": [
    "a = set([5,6,9])\n",
    "b = set([12,5,6])\n",
    "\n",
    "a.difference(b)"
   ]
  },
  {
   "cell_type": "code",
   "execution_count": 2,
   "id": "6efe6d57",
   "metadata": {},
   "outputs": [
    {
     "data": {
      "text/plain": [
       "{9}"
      ]
     },
     "execution_count": 2,
     "metadata": {},
     "output_type": "execute_result"
    }
   ],
   "source": [
    "a - b"
   ]
  },
  {
   "cell_type": "code",
   "execution_count": 3,
   "id": "5abe6112",
   "metadata": {},
   "outputs": [
    {
     "data": {
      "text/plain": [
       "{12}"
      ]
     },
     "execution_count": 3,
     "metadata": {},
     "output_type": "execute_result"
    }
   ],
   "source": [
    "b.difference(a)"
   ]
  },
  {
   "cell_type": "code",
   "execution_count": 4,
   "id": "d61c08a9",
   "metadata": {},
   "outputs": [
    {
     "data": {
      "text/plain": [
       "{12}"
      ]
     },
     "execution_count": 4,
     "metadata": {},
     "output_type": "execute_result"
    }
   ],
   "source": [
    "b - a"
   ]
  },
  {
   "cell_type": "markdown",
   "id": "db41d0f6",
   "metadata": {},
   "source": [
    "symmetric_difference() : İki kümedeki ortak olmayanları döndürür."
   ]
  },
  {
   "cell_type": "code",
   "execution_count": 5,
   "id": "0630050c",
   "metadata": {},
   "outputs": [
    {
     "data": {
      "text/plain": [
       "{9, 12}"
      ]
     },
     "execution_count": 5,
     "metadata": {},
     "output_type": "execute_result"
    }
   ],
   "source": [
    "a = set([5,6,9])\n",
    "b = set([12,5,6])\n",
    "\n",
    "a.symmetric_difference(b)"
   ]
  },
  {
   "cell_type": "markdown",
   "id": "80f35988",
   "metadata": {},
   "source": [
    "intersection() : İki kümenin kesişimlerini döndürür. Bu fonksiyon yerine (&) işareti de kullanılabilir."
   ]
  },
  {
   "cell_type": "code",
   "execution_count": 6,
   "id": "ec69cf22",
   "metadata": {},
   "outputs": [
    {
     "data": {
      "text/plain": [
       "{5, 6}"
      ]
     },
     "execution_count": 6,
     "metadata": {},
     "output_type": "execute_result"
    }
   ],
   "source": [
    "a = set([5,6,9])\n",
    "b = set([12,5,6])\n",
    "\n",
    "a.intersection(b)"
   ]
  },
  {
   "cell_type": "code",
   "execution_count": 7,
   "id": "0613e7f0",
   "metadata": {},
   "outputs": [
    {
     "data": {
      "text/plain": [
       "{5, 6}"
      ]
     },
     "execution_count": 7,
     "metadata": {},
     "output_type": "execute_result"
    }
   ],
   "source": [
    "a & b"
   ]
  },
  {
   "cell_type": "markdown",
   "id": "1dcbdc19",
   "metadata": {},
   "source": [
    "union() : İki kümeyi birleştirmek için kullanılır."
   ]
  },
  {
   "cell_type": "code",
   "execution_count": 8,
   "id": "94b4ce3a",
   "metadata": {},
   "outputs": [
    {
     "data": {
      "text/plain": [
       "{5, 6, 9, 12}"
      ]
     },
     "execution_count": 8,
     "metadata": {},
     "output_type": "execute_result"
    }
   ],
   "source": [
    "a = set([5,6,9])\n",
    "b = set([12,5,6])\n",
    "\n",
    "a.union(b)"
   ]
  },
  {
   "cell_type": "markdown",
   "id": "04eb1705",
   "metadata": {},
   "source": [
    "remove() ve discard() : Setlerden bir eleman silmek için kullanılır."
   ]
  },
  {
   "cell_type": "code",
   "execution_count": 9,
   "id": "2aaeb668",
   "metadata": {},
   "outputs": [],
   "source": [
    "a.remove(5)"
   ]
  },
  {
   "cell_type": "code",
   "execution_count": 10,
   "id": "5ff3b5cc",
   "metadata": {},
   "outputs": [
    {
     "data": {
      "text/plain": [
       "{6, 9}"
      ]
     },
     "execution_count": 10,
     "metadata": {},
     "output_type": "execute_result"
    }
   ],
   "source": [
    "a"
   ]
  },
  {
   "cell_type": "code",
   "execution_count": 11,
   "id": "e020fa21",
   "metadata": {},
   "outputs": [],
   "source": [
    "b.discard(12)"
   ]
  },
  {
   "cell_type": "code",
   "execution_count": 12,
   "id": "3bc7aeb7",
   "metadata": {},
   "outputs": [
    {
     "data": {
      "text/plain": [
       "{5, 6}"
      ]
     },
     "execution_count": 12,
     "metadata": {},
     "output_type": "execute_result"
    }
   ],
   "source": [
    "b"
   ]
  },
  {
   "cell_type": "markdown",
   "id": "ebc62473",
   "metadata": {},
   "source": [
    "#### 3- Listeler"
   ]
  },
  {
   "cell_type": "markdown",
   "id": "9589fb28",
   "metadata": {},
   "source": [
    "Virgülle ayrılmış ve köşeli parantez içine alınmış farklı veri tiplerinden öğeler içerebilen veri tipidir."
   ]
  },
  {
   "cell_type": "code",
   "execution_count": 2,
   "id": "85b90ee0",
   "metadata": {},
   "outputs": [
    {
     "name": "stdout",
     "output_type": "stream",
     "text": [
      "['Ali', 5, 'tkr']\n"
     ]
    }
   ],
   "source": [
    "list1 = [\"Ali\", 5, \"tkr\"]\n",
    "\n",
    "print(list1)"
   ]
  },
  {
   "cell_type": "markdown",
   "id": "cd47ada8",
   "metadata": {},
   "source": [
    "#### Liste Fonksiyonları"
   ]
  },
  {
   "cell_type": "markdown",
   "id": "2c9c56ce",
   "metadata": {},
   "source": [
    "len() : Eleman sayılarını verir."
   ]
  },
  {
   "cell_type": "code",
   "execution_count": 3,
   "id": "52e25555",
   "metadata": {},
   "outputs": [
    {
     "name": "stdout",
     "output_type": "stream",
     "text": [
      "3\n"
     ]
    }
   ],
   "source": [
    "list1 = [\"Ali\", 5, \"tkr\"]\n",
    "\n",
    "print(len(list1))"
   ]
  },
  {
   "cell_type": "markdown",
   "id": "7f2ac5a8",
   "metadata": {},
   "source": [
    "append() : Listenin sonuna bir öğe ekler."
   ]
  },
  {
   "cell_type": "code",
   "execution_count": 5,
   "id": "40170ee2",
   "metadata": {},
   "outputs": [
    {
     "name": "stdout",
     "output_type": "stream",
     "text": [
      "['Ali', 5, 'tkr', 'A']\n"
     ]
    }
   ],
   "source": [
    "list1 = [\"Ali\", 5, \"tkr\"]\n",
    "\n",
    "list1.append(\"A\")\n",
    "print(list1)"
   ]
  },
  {
   "cell_type": "markdown",
   "id": "ef0b40c0",
   "metadata": {},
   "source": [
    "count() : Belirtilen değere sahip elemanların sayısını verir."
   ]
  },
  {
   "cell_type": "code",
   "execution_count": 6,
   "id": "a6fa6d54",
   "metadata": {},
   "outputs": [
    {
     "data": {
      "text/plain": [
       "1"
      ]
     },
     "execution_count": 6,
     "metadata": {},
     "output_type": "execute_result"
    }
   ],
   "source": [
    "list1 = [\"Ali\", 5, \"tkr\", \"A\"]\n",
    "\n",
    "adet = list1.count(\"A\")\n",
    "\n",
    "adet"
   ]
  },
  {
   "cell_type": "markdown",
   "id": "7c36f851",
   "metadata": {},
   "source": [
    "copy() : Listenin bir kopyasını verir."
   ]
  },
  {
   "cell_type": "code",
   "execution_count": 7,
   "id": "e28352ec",
   "metadata": {},
   "outputs": [
    {
     "name": "stdout",
     "output_type": "stream",
     "text": [
      "['Ali', 5, 'tkr', 'A']\n"
     ]
    }
   ],
   "source": [
    "list2 = list1.copy()\n",
    "\n",
    "print(list2)"
   ]
  },
  {
   "cell_type": "markdown",
   "id": "f57281ee",
   "metadata": {},
   "source": [
    "clear() : Listedeki tüm ögeleri temizler."
   ]
  },
  {
   "cell_type": "code",
   "execution_count": 8,
   "id": "3a890fcf",
   "metadata": {},
   "outputs": [],
   "source": [
    "list2.clear()"
   ]
  },
  {
   "cell_type": "code",
   "execution_count": 9,
   "id": "3d2186b0",
   "metadata": {},
   "outputs": [
    {
     "name": "stdout",
     "output_type": "stream",
     "text": [
      "[]\n"
     ]
    }
   ],
   "source": [
    "print(list2)"
   ]
  },
  {
   "cell_type": "markdown",
   "id": "de5e8c62",
   "metadata": {},
   "source": [
    "extend() : Bir listenin ögelerini mevcut diğer listenin sonuna ekler."
   ]
  },
  {
   "cell_type": "code",
   "execution_count": 10,
   "id": "584fc3e8",
   "metadata": {},
   "outputs": [],
   "source": [
    "a = [\"on\", \"yirmi\", \"otuz\", \"kırk\"]\n",
    "b = [10, 20, 30, 40]\n",
    "\n",
    "a.extend(b)"
   ]
  },
  {
   "cell_type": "code",
   "execution_count": 12,
   "id": "5e0a0b92",
   "metadata": {},
   "outputs": [
    {
     "name": "stdout",
     "output_type": "stream",
     "text": [
      "['on', 'yirmi', 'otuz', 'kırk', 10, 20, 30, 40]\n"
     ]
    }
   ],
   "source": [
    "print(a)"
   ]
  },
  {
   "cell_type": "markdown",
   "id": "7bcb3f78",
   "metadata": {},
   "source": [
    "index() : Belirtilen değere sahip ilk elemanın dizinini verir."
   ]
  },
  {
   "cell_type": "code",
   "execution_count": 13,
   "id": "22c5e2c1",
   "metadata": {},
   "outputs": [
    {
     "data": {
      "text/plain": [
       "1"
      ]
     },
     "execution_count": 13,
     "metadata": {},
     "output_type": "execute_result"
    }
   ],
   "source": [
    "a = [\"a\" , \"b\", \"c\", \"a\", \"b\", \"c\"]\n",
    "\n",
    "b = a.index(\"b\")\n",
    "b"
   ]
  },
  {
   "cell_type": "markdown",
   "id": "b3c6d685",
   "metadata": {},
   "source": [
    "*** Indexler 0'dan başlar, sondan bir elemanın indexi alınmak istenirse de -1'den başlar."
   ]
  },
  {
   "cell_type": "markdown",
   "id": "552bb025",
   "metadata": {},
   "source": [
    "insert() : Belirtilen konuma istenen elemanı ekler."
   ]
  },
  {
   "cell_type": "code",
   "execution_count": 14,
   "id": "7a433f0f",
   "metadata": {},
   "outputs": [
    {
     "name": "stdout",
     "output_type": "stream",
     "text": [
      "['a', 'b', 'c', 'd', 'a', 'b', 'c']\n"
     ]
    }
   ],
   "source": [
    "a = [\"a\" , \"b\", \"c\", \"a\", \"b\", \"c\"]\n",
    "\n",
    "a.insert(3, \"d\")\n",
    "print(a)"
   ]
  },
  {
   "cell_type": "markdown",
   "id": "380e0948",
   "metadata": {},
   "source": [
    "pop() : Ögeyi belirtilen konumdan kaldırır. Eğer parantez içine argüman almazsa listenin sonundaki elemanı listeden kaldırır."
   ]
  },
  {
   "cell_type": "code",
   "execution_count": 17,
   "id": "1e271446",
   "metadata": {},
   "outputs": [
    {
     "name": "stdout",
     "output_type": "stream",
     "text": [
      "['a', 'b', 'c', 'a', 'b']\n"
     ]
    }
   ],
   "source": [
    "a = [\"a\" , \"b\", \"c\", \"a\", \"b\", \"c\"]\n",
    "\n",
    "a.pop()\n",
    "print(a)"
   ]
  },
  {
   "cell_type": "code",
   "execution_count": 21,
   "id": "bdddca93",
   "metadata": {},
   "outputs": [
    {
     "data": {
      "text/plain": [
       "['a', 'b', 'c', 'b', 'c']"
      ]
     },
     "execution_count": 21,
     "metadata": {},
     "output_type": "execute_result"
    }
   ],
   "source": [
    "a = [\"a\" , \"b\", \"c\", \"a\", \"b\", \"c\"]\n",
    "\n",
    "a.pop(3)\n",
    "a"
   ]
  },
  {
   "cell_type": "markdown",
   "id": "c9e23adb",
   "metadata": {},
   "source": [
    "remove() : Belirtilen değere sahip ilk ögeyi listeden kaldırır."
   ]
  },
  {
   "cell_type": "code",
   "execution_count": 22,
   "id": "60d5e2e3",
   "metadata": {},
   "outputs": [
    {
     "name": "stdout",
     "output_type": "stream",
     "text": [
      "['a', 'c', 'a', 'b', 'c']\n"
     ]
    }
   ],
   "source": [
    "a = [\"a\" , \"b\", \"c\", \"a\", \"b\", \"c\"]\n",
    "\n",
    "a.remove(\"b\")\n",
    "print(a)"
   ]
  },
  {
   "cell_type": "markdown",
   "id": "fc8c1f7f",
   "metadata": {},
   "source": [
    "reverse() : Listenin sırasını tersine çevirir."
   ]
  },
  {
   "cell_type": "code",
   "execution_count": 23,
   "id": "37eae261",
   "metadata": {},
   "outputs": [
    {
     "name": "stdout",
     "output_type": "stream",
     "text": [
      "['bozuk', 'taze', 'eski', 'yeni']\n"
     ]
    }
   ],
   "source": [
    "list3 = [\"yeni\", \"eski\", \"taze\", \"bozuk\"]\n",
    "\n",
    "list3.reverse()\n",
    "print(list3)"
   ]
  },
  {
   "cell_type": "markdown",
   "id": "0f35a867",
   "metadata": {},
   "source": [
    "sort() : Listeyi sıralar."
   ]
  },
  {
   "cell_type": "code",
   "execution_count": 24,
   "id": "28aa6a28",
   "metadata": {},
   "outputs": [
    {
     "name": "stdout",
     "output_type": "stream",
     "text": [
      "['bozuk', 'eski', 'taze', 'yeni']\n"
     ]
    }
   ],
   "source": [
    "list3.sort()\n",
    "\n",
    "print(list3)"
   ]
  },
  {
   "cell_type": "code",
   "execution_count": 25,
   "id": "683ee31b",
   "metadata": {},
   "outputs": [
    {
     "name": "stdout",
     "output_type": "stream",
     "text": [
      "[1, 5, 8, 45]\n"
     ]
    }
   ],
   "source": [
    "list4 = [5, 8, 45, 1]\n",
    "\n",
    "list4.sort()\n",
    "print(list4)"
   ]
  },
  {
   "cell_type": "markdown",
   "id": "65addfe7",
   "metadata": {},
   "source": [
    "#### 4- Tuple (Demetler)"
   ]
  },
  {
   "cell_type": "markdown",
   "id": "ed5cb8e2",
   "metadata": {},
   "source": [
    "Kısaca listelerin değerlerinin değişmeyen halidir diyebiliriz. Yani tuple veri tipiyle yazılan bir değer artık değiştirilemez yapıya sahip olur. Değerler köşeli parantezle değil () ile atanır."
   ]
  },
  {
   "cell_type": "markdown",
   "id": "df4ef8b8",
   "metadata": {},
   "source": [
    "#### Tuple Fonksiyonları"
   ]
  },
  {
   "cell_type": "markdown",
   "id": "2846c617",
   "metadata": {},
   "source": [
    "count() : Belirtilen argümanın kaç tane olduğunu saydırır."
   ]
  },
  {
   "cell_type": "code",
   "execution_count": 26,
   "id": "56083312",
   "metadata": {},
   "outputs": [
    {
     "data": {
      "text/plain": [
       "2"
      ]
     },
     "execution_count": 26,
     "metadata": {},
     "output_type": "execute_result"
    }
   ],
   "source": [
    "tuple1 = (\"Simge\", 123, \"Simge\", \"A\")\n",
    "\n",
    "tuple1.count(\"Simge\")"
   ]
  },
  {
   "cell_type": "markdown",
   "id": "a0d59102",
   "metadata": {},
   "source": [
    "index() : Belirtilen argümanın kaçıncı indexte bulunduğunu döndürür."
   ]
  },
  {
   "cell_type": "code",
   "execution_count": 27,
   "id": "ac48a11f",
   "metadata": {},
   "outputs": [
    {
     "data": {
      "text/plain": [
       "1"
      ]
     },
     "execution_count": 27,
     "metadata": {},
     "output_type": "execute_result"
    }
   ],
   "source": [
    "tuple1 = (\"Simge\", 123, \"Simge\", \"A\")\n",
    "\n",
    "tuple1.index(123)"
   ]
  },
  {
   "cell_type": "markdown",
   "id": "c00276b2",
   "metadata": {},
   "source": [
    "#### 5- Sözlük Veri Tipi (Dictionary)"
   ]
  },
  {
   "cell_type": "markdown",
   "id": "f34983ce",
   "metadata": {},
   "source": [
    "Bir sözlük, anahtar/değer çiftlerini tutar. {} içinde anahtar/değer çiftleri virgülle ayrılmış olarak tanımlanır. Anahtar ve değerler (:) kullanılarak birbirine atanmış olur."
   ]
  },
  {
   "cell_type": "code",
   "execution_count": 1,
   "id": "c6f268bf",
   "metadata": {},
   "outputs": [
    {
     "name": "stdout",
     "output_type": "stream",
     "text": [
      "{'Red': 'Cherry', 'Yellow': 'Lemon', 'Green': 'Apple'}\n"
     ]
    }
   ],
   "source": [
    "colorsAndFruits = {\"Red\": \"Cherry\", \"Yellow\": \"Lemon\", \"Green\": \"Apple\"}\n",
    "\n",
    "print(colorsAndFruits)"
   ]
  },
  {
   "cell_type": "code",
   "execution_count": 3,
   "id": "09fa77f2",
   "metadata": {},
   "outputs": [
    {
     "data": {
      "text/plain": [
       "dict"
      ]
     },
     "execution_count": 3,
     "metadata": {},
     "output_type": "execute_result"
    }
   ],
   "source": [
    "type(colorsAndFruits)"
   ]
  },
  {
   "cell_type": "markdown",
   "id": "d174cd9d",
   "metadata": {},
   "source": [
    "#### Dictionary Fonksiyonları"
   ]
  },
  {
   "cell_type": "markdown",
   "id": "57b0c03d",
   "metadata": {},
   "source": [
    "keys() : Sözlük içerisinde yer alan ögelerin anahtarlarını yazdırır."
   ]
  },
  {
   "cell_type": "code",
   "execution_count": 4,
   "id": "c3a9e041",
   "metadata": {},
   "outputs": [
    {
     "name": "stdout",
     "output_type": "stream",
     "text": [
      "dict_keys(['Red', 'Yellow', 'Green'])\n"
     ]
    }
   ],
   "source": [
    "colorsAndFruits = {\"Red\": \"Cherry\", \"Yellow\": \"Lemon\", \"Green\": \"Apple\"}\n",
    "\n",
    "print(colorsAndFruits.keys())"
   ]
  },
  {
   "cell_type": "markdown",
   "id": "c8c44dda",
   "metadata": {},
   "source": [
    "values() : Sözlük içerisinde yer alan anahtarların değerlerini yazdırır."
   ]
  },
  {
   "cell_type": "code",
   "execution_count": 5,
   "id": "ec89321e",
   "metadata": {},
   "outputs": [
    {
     "name": "stdout",
     "output_type": "stream",
     "text": [
      "dict_values(['Cherry', 'Lemon', 'Apple'])\n"
     ]
    }
   ],
   "source": [
    "colorsAndFruits = {\"Red\": \"Cherry\", \"Yellow\": \"Lemon\", \"Green\": \"Apple\"}\n",
    "\n",
    "print(colorsAndFruits.values())"
   ]
  },
  {
   "cell_type": "markdown",
   "id": "391006af",
   "metadata": {},
   "source": [
    "items() : Sözlük içerisinde yer alan anahtarların değer çiftlerini yazdırır."
   ]
  },
  {
   "cell_type": "code",
   "execution_count": 6,
   "id": "f1159762",
   "metadata": {},
   "outputs": [
    {
     "name": "stdout",
     "output_type": "stream",
     "text": [
      "dict_items([('Red', 'Cherry'), ('Yellow', 'Lemon'), ('Green', 'Apple')])\n"
     ]
    }
   ],
   "source": [
    "colorsAndFruits = {\"Red\": \"Cherry\", \"Yellow\": \"Lemon\", \"Green\": \"Apple\"}\n",
    "\n",
    "print(colorsAndFruits.items())"
   ]
  },
  {
   "cell_type": "markdown",
   "id": "5d42aaa1",
   "metadata": {},
   "source": [
    "copy() : Var olan bir sözlüğü başka bir değişkene atamak için kullanılır."
   ]
  },
  {
   "cell_type": "code",
   "execution_count": 10,
   "id": "16692013",
   "metadata": {},
   "outputs": [
    {
     "name": "stdout",
     "output_type": "stream",
     "text": [
      "{'Red': 'Cherry', 'Yellow': 'Lemon', 'Green': 'Apple'}\n"
     ]
    }
   ],
   "source": [
    "colorsAndFruits = {\"Red\": \"Cherry\", \"Yellow\": \"Lemon\", \"Green\": \"Apple\"}\n",
    "\n",
    "CaF = colorsAndFruits.copy()\n",
    "print(CaF)"
   ]
  },
  {
   "cell_type": "markdown",
   "id": "5da0576c",
   "metadata": {},
   "source": [
    "del : Sözlükte tek bir değer silinmek isteniyorsa kullanılır."
   ]
  },
  {
   "cell_type": "code",
   "execution_count": 21,
   "id": "c26144a3",
   "metadata": {},
   "outputs": [
    {
     "name": "stdout",
     "output_type": "stream",
     "text": [
      "{'Red': 'Cherry', 'Green': 'Apple'}\n"
     ]
    }
   ],
   "source": [
    "colorsAndFruits = {\"Red\": \"Cherry\", \"Yellow\": \"Lemon\", \"Green\": \"Apple\"}\n",
    "\n",
    "del colorsAndFruits[\"Yellow\"]\n",
    "print(colorsAndFruits)"
   ]
  },
  {
   "cell_type": "markdown",
   "id": "6d2a7267",
   "metadata": {},
   "source": [
    "clear() : Sözlükteki bütün değerleri siler."
   ]
  },
  {
   "cell_type": "code",
   "execution_count": 22,
   "id": "1a9deca7",
   "metadata": {},
   "outputs": [
    {
     "name": "stdout",
     "output_type": "stream",
     "text": [
      "{}\n"
     ]
    }
   ],
   "source": [
    "colorsAndFruits = {\"Red\": \"Cherry\", \"Yellow\": \"Lemon\", \"Green\": \"Apple\"}\n",
    "\n",
    "colorsAndFruits.clear()\n",
    "print(colorsAndFruits)"
   ]
  },
  {
   "cell_type": "markdown",
   "id": "49c38631",
   "metadata": {},
   "source": [
    "#### 6- Integer (Sayısal Değer) Veri Tipi"
   ]
  },
  {
   "cell_type": "code",
   "execution_count": 12,
   "id": "a5fb205c",
   "metadata": {},
   "outputs": [
    {
     "name": "stdout",
     "output_type": "stream",
     "text": [
      "456\n"
     ]
    },
    {
     "data": {
      "text/plain": [
       "int"
      ]
     },
     "execution_count": 12,
     "metadata": {},
     "output_type": "execute_result"
    }
   ],
   "source": [
    "a = 456\n",
    "\n",
    "print(a)\n",
    "type(a)"
   ]
  },
  {
   "cell_type": "markdown",
   "id": "39c01c52",
   "metadata": {},
   "source": [
    "#### 7- Float (Ondalıklı Sayı) Veri Tipi"
   ]
  },
  {
   "cell_type": "code",
   "execution_count": 13,
   "id": "66a9a223",
   "metadata": {},
   "outputs": [
    {
     "name": "stdout",
     "output_type": "stream",
     "text": [
      "456.0\n"
     ]
    },
    {
     "data": {
      "text/plain": [
       "float"
      ]
     },
     "execution_count": 13,
     "metadata": {},
     "output_type": "execute_result"
    }
   ],
   "source": [
    "a = float(456)\n",
    "\n",
    "print(a)\n",
    "type(a)"
   ]
  },
  {
   "cell_type": "markdown",
   "id": "2e5a00fa",
   "metadata": {},
   "source": [
    "## Temel Operatörler"
   ]
  },
  {
   "cell_type": "markdown",
   "id": "3eff2196",
   "metadata": {},
   "source": [
    "#### 1- Aritmetik Operatörler;"
   ]
  },
  {
   "cell_type": "markdown",
   "id": "3fceee67",
   "metadata": {},
   "source": [
    "Toplama (+) ,      Bölme (/)  ,\n",
    "Çıkarma (-) ,      Mod Alma (%)  ,\n",
    "Çarpma (*)  ,     Üs Alma (**)"
   ]
  },
  {
   "cell_type": "markdown",
   "id": "63514877",
   "metadata": {},
   "source": [
    "// operatörü : Bölüme en yakın sayısal değere yuvarlamayı sağlar."
   ]
  },
  {
   "cell_type": "markdown",
   "id": "eb6075ad",
   "metadata": {},
   "source": [
    "#### 2- Karşılaştırma Operatörleri;"
   ]
  },
  {
   "cell_type": "markdown",
   "id": "a0eef2e3",
   "metadata": {},
   "source": [
    "-Bir Boole değeri (True/False) döndürmek için kullanılırlar."
   ]
  },
  {
   "cell_type": "markdown",
   "id": "fcf9d73e",
   "metadata": {},
   "source": [
    "Eşittir (==)   ,    Küçüktür (<)   ,\n",
    "Eşit Değildir (!=)   ,    Büyüktür (>)   ,\n",
    "Büyüktür veya Eşittir (>=)   ,   Küçüktür veya Eşittir (<=)"
   ]
  },
  {
   "cell_type": "markdown",
   "id": "4efb9a27",
   "metadata": {},
   "source": [
    "#### 3- Tanımlama Operatörleri;"
   ]
  },
  {
   "cell_type": "markdown",
   "id": "2bfbf7d5",
   "metadata": {},
   "source": [
    "-İki nesnenin bellek konumunu karşılaştırmak için kullanılır."
   ]
  },
  {
   "cell_type": "markdown",
   "id": "9512b449",
   "metadata": {},
   "source": [
    "-Listeler istisnadır; eşit olsalar da özdeş değillerdir, farklı konumlarda yer alırlar."
   ]
  },
  {
   "cell_type": "markdown",
   "id": "718d77aa",
   "metadata": {},
   "source": [
    "is : İki nesne bellekte aynı bellek konumuna sahipse True döndürür."
   ]
  },
  {
   "cell_type": "markdown",
   "id": "fe9bb5ef",
   "metadata": {},
   "source": [
    "is not : İki nesne bellekte aynı konuma sahip değilse True döndürür."
   ]
  },
  {
   "cell_type": "markdown",
   "id": "65ea90f3",
   "metadata": {},
   "source": [
    "#### 4- Mantıksal Operatörler;"
   ]
  },
  {
   "cell_type": "markdown",
   "id": "b7b1022a",
   "metadata": {},
   "source": [
    "-Boole değerlerini birleştirmek ve bir Boole sonucu döndürmek için kullanılır."
   ]
  },
  {
   "cell_type": "markdown",
   "id": "60aa2ab4",
   "metadata": {},
   "source": [
    "and : Her iki işlenen değer de doğru ise True değerini döndürür."
   ]
  },
  {
   "cell_type": "markdown",
   "id": "6525f322",
   "metadata": {},
   "source": [
    "or : İşlenen değerlerden biri doğru ise True değerini döndürür."
   ]
  },
  {
   "cell_type": "markdown",
   "id": "755fb4d1",
   "metadata": {},
   "source": [
    "not : İşlenen değerin zıt Boolean değerini döndürür."
   ]
  },
  {
   "cell_type": "markdown",
   "id": "f647864d",
   "metadata": {},
   "source": [
    "#### 5- Ait Olma Operatörleri;"
   ]
  },
  {
   "cell_type": "markdown",
   "id": "2d5a2404",
   "metadata": {},
   "source": [
    "-Bir değerin, bir dizinin üyesi olup olmadığını kontrol etmek için kullanılır."
   ]
  },
  {
   "cell_type": "markdown",
   "id": "4e96741f",
   "metadata": {},
   "source": [
    "in : Değer, dizinin bir üyesiyse True değerini döndürür."
   ]
  },
  {
   "cell_type": "markdown",
   "id": "d62e5b87",
   "metadata": {},
   "source": [
    "not in : Değer, dizinin bir üyesi değilse True değerini döndürür."
   ]
  },
  {
   "cell_type": "markdown",
   "id": "d6e094ba",
   "metadata": {},
   "source": [
    "# Input / Output"
   ]
  },
  {
   "cell_type": "markdown",
   "id": "c1977cf7",
   "metadata": {},
   "source": [
    "Input : Kullanıcıdan veri girişi yapmasını istemek."
   ]
  },
  {
   "cell_type": "code",
   "execution_count": 15,
   "id": "6b0906f4",
   "metadata": {},
   "outputs": [
    {
     "name": "stdout",
     "output_type": "stream",
     "text": [
      "Please enter your name: Simge\n",
      "Hello, Simge!\n"
     ]
    }
   ],
   "source": [
    "name = input(\"Please enter your name: \")\n",
    "\n",
    "print(\"Hello, \" + name + \"!\")"
   ]
  },
  {
   "cell_type": "code",
   "execution_count": 16,
   "id": "02918407",
   "metadata": {},
   "outputs": [
    {
     "name": "stdout",
     "output_type": "stream",
     "text": [
      "Lütfen bir sayı giriniz:123\n",
      "Kullanıcının girdiği sayı: 123\n"
     ]
    }
   ],
   "source": [
    "a = input(\"Lütfen bir sayı giriniz:\")\n",
    "\n",
    "print(\"Kullanıcının girdiği sayı:\", a)"
   ]
  },
  {
   "cell_type": "markdown",
   "id": "870e1a86",
   "metadata": {},
   "source": [
    "Output : Girilen verilerin çıktısını ekrana verir."
   ]
  },
  {
   "cell_type": "code",
   "execution_count": 19,
   "id": "b35e4fda",
   "metadata": {},
   "outputs": [
    {
     "name": "stdout",
     "output_type": "stream",
     "text": [
      "8 ve 2'nin toplamı: 10\n"
     ]
    }
   ],
   "source": [
    "x = 8\n",
    "y = 2\n",
    "\n",
    "print(\"{} ve {}'nin toplamı: {}\".format(x,y , x+y))"
   ]
  },
  {
   "cell_type": "markdown",
   "id": "1788e942",
   "metadata": {},
   "source": [
    "# ALIŞTIRMALAR"
   ]
  },
  {
   "cell_type": "markdown",
   "id": "9dd708ab",
   "metadata": {},
   "source": [
    "##### Problem 1 : "
   ]
  },
  {
   "cell_type": "markdown",
   "id": "584553b4",
   "metadata": {},
   "source": [
    "Kullanıcıdan aldığınız 3 tane sayıyı çarparak ekrana yazdırın. Ekrana yazdırma işlemini *format* metoduyla yapmaya çalışın."
   ]
  },
  {
   "cell_type": "code",
   "execution_count": 23,
   "id": "e807b1ca",
   "metadata": {},
   "outputs": [
    {
     "name": "stdout",
     "output_type": "stream",
     "text": [
      "Birinci sayı değerini giriniz:12\n",
      "İkinci sayı değerini giriniz:45\n",
      "Üçüncü sayı değerini giriniz:74\n",
      "Çarpım: 39960\n",
      "\n"
     ]
    }
   ],
   "source": [
    "sayi1 = int(input(\"Birinci sayı değerini giriniz:\"))\n",
    "sayi2 = int(input(\"İkinci sayı değerini giriniz:\"))\n",
    "sayi3 = int(input(\"Üçüncü sayı değerini giriniz:\"))\n",
    "\n",
    "print(\"Çarpım: {}\\n\".format(sayi1*sayi2*sayi3))"
   ]
  },
  {
   "cell_type": "markdown",
   "id": "d9339232",
   "metadata": {},
   "source": [
    "##### Problem 2 :"
   ]
  },
  {
   "cell_type": "markdown",
   "id": "0fa034de",
   "metadata": {},
   "source": [
    "Kullanıcıdan aldığınız boy ve kilo değerlerine göre kullanıcının beden kitle indeksini bulun.Beden Kitle İndeksi : Kilo / Boy(m) Boy(m)"
   ]
  },
  {
   "cell_type": "code",
   "execution_count": 24,
   "id": "e6ce2222",
   "metadata": {},
   "outputs": [
    {
     "name": "stdout",
     "output_type": "stream",
     "text": [
      "Lütfen boyunuzu belirtilen alana giriniz:169\n",
      "Lütfen kilonuzu belirtilen alana giriniz:70\n",
      "Beden Kitle İndeksiniz: 0.0025\n",
      "\n",
      "VKİ 18 ile 25 aralığındaysa normal, \n",
      "VKİ 25 ile 30 aralığındaysa kilolu, \n",
      "VKİ 30 ve daha yüksekse obez, \n",
      "VKİ 35 ve daha fazlaysa ciddi obez \n",
      "\n"
     ]
    }
   ],
   "source": [
    "boy = int(input(\"Lütfen boyunuzu belirtilen alana giriniz:\"))\n",
    "kilo = int(input(\"Lütfen kilonuzu belirtilen alana giriniz:\"))\n",
    "\n",
    "bedenKitleIndeksi: float = (kilo / (boy * boy))\n",
    "\n",
    "print(\"Beden Kitle İndeksiniz: {}\\n\".format(round(bedenKitleIndeksi, 4)))\n",
    "print(\"VKİ 18 ile 25 aralığındaysa normal, \\nVKİ 25 ile 30 aralığındaysa kilolu, \")\n",
    "print(\"VKİ 30 ve daha yüksekse obez, \\nVKİ 35 ve daha fazlaysa ciddi obez \\n\")"
   ]
  },
  {
   "cell_type": "markdown",
   "id": "f0f5cc88",
   "metadata": {},
   "source": [
    "##### Problem 3 : "
   ]
  },
  {
   "cell_type": "markdown",
   "id": "c566cd71",
   "metadata": {},
   "source": [
    "Bir aracın kilometrede ne kadar yaktığı ve kaç kilometre yol yaptığı bilgilerini alın ve sürücünün toplam ne kadar ödemesi gerektiğini hesaplayın."
   ]
  },
  {
   "cell_type": "code",
   "execution_count": 25,
   "id": "a764fd9c",
   "metadata": {},
   "outputs": [
    {
     "name": "stdout",
     "output_type": "stream",
     "text": [
      "Aracınızın kilometre başına yaktığı yakıt:5\n",
      "Gidilen Yol:25\n",
      "Ödemeniz gereken yakıt tutarı: 20.0\n",
      "\n"
     ]
    }
   ],
   "source": [
    "yakit = int(input(\"Aracınızın kilometre başına yaktığı yakıt:\"))\n",
    "yol = int(input(\"Gidilen Yol:\"))\n",
    "\n",
    "kullanilanYakit = ((yakit * 100) / yol)\n",
    "\n",
    "print(\"Ödemeniz gereken yakıt tutarı: {}\\n\".format(kullanilanYakit))"
   ]
  },
  {
   "cell_type": "markdown",
   "id": "2d8aaf51",
   "metadata": {},
   "source": [
    "##### Problem 4 :"
   ]
  },
  {
   "cell_type": "markdown",
   "id": "8d60de83",
   "metadata": {},
   "source": [
    "Kullanıcıdan ad,soyad ve numara bilgisini alarak bunları alt alta ekrana yazdırın."
   ]
  },
  {
   "cell_type": "code",
   "execution_count": 26,
   "id": "bc2569ed",
   "metadata": {},
   "outputs": [
    {
     "name": "stdout",
     "output_type": "stream",
     "text": [
      "Lütfen adınızı yazınız:Simge\n",
      "Lütfen soyadınızı yazınız:Gök\n",
      "Lütfen telefon numaranızı giriniz:5555 555 55 55\n",
      "Kullanıcı Adı: Simge\n",
      "Kullanıcı Soyadı: Gök\n",
      "Kullanıcı Telefon Numarası: 5555 555 55 55\n",
      "\n"
     ]
    }
   ],
   "source": [
    "ad = input(\"Lütfen adınızı yazınız:\")\n",
    "soyad = input(\"Lütfen soyadınızı yazınız:\")\n",
    "numara = input(\"Lütfen telefon numaranızı giriniz:\")\n",
    "\n",
    "print(\"Kullanıcı Adı: {}\\nKullanıcı Soyadı: {}\\nKullanıcı Telefon Numarası: {}\\n\".format(ad, soyad, numara))"
   ]
  },
  {
   "cell_type": "markdown",
   "id": "c551c7ae",
   "metadata": {},
   "source": [
    "##### Problem 5 : "
   ]
  },
  {
   "cell_type": "markdown",
   "id": "2c64299c",
   "metadata": {},
   "source": [
    "Kullanıcıdan iki tane sayı isteyin ve bu sayıların değerlerini birbirleriyle değiştirin."
   ]
  },
  {
   "cell_type": "code",
   "execution_count": 27,
   "id": "0dfd9fa7",
   "metadata": {},
   "outputs": [
    {
     "name": "stdout",
     "output_type": "stream",
     "text": [
      "a:8\n",
      "b:6\n",
      "İlk Değerler: \n",
      "a: 8 b: 6\n",
      "\n",
      "Sonraki Değerler: \n",
      "a: 6 b: 8\n",
      "\n"
     ]
    }
   ],
   "source": [
    "a = input(\"a:\")\n",
    "b = input(\"b:\")\n",
    "\n",
    "print(\"İlk Değerler: \\na: {} b: {}\\n\".format(a,b))\n",
    "\n",
    "a,b = b,a\n",
    "\n",
    "print(\"Sonraki Değerler: \\na: {} b: {}\\n\".format(a,b))"
   ]
  },
  {
   "cell_type": "markdown",
   "id": "218304a8",
   "metadata": {},
   "source": [
    "*** Alıştırma soruları Udemy - Mustafa Murat Coşkun/ Python Eğitimi ilk bölüm ödev sorularıdır. Soruların cevap kodları şahsıma aittir."
   ]
  }
 ],
 "metadata": {
  "kernelspec": {
   "display_name": "Python 3 (ipykernel)",
   "language": "python",
   "name": "python3"
  },
  "language_info": {
   "codemirror_mode": {
    "name": "ipython",
    "version": 3
   },
   "file_extension": ".py",
   "mimetype": "text/x-python",
   "name": "python",
   "nbconvert_exporter": "python",
   "pygments_lexer": "ipython3",
   "version": "3.11.5"
  }
 },
 "nbformat": 4,
 "nbformat_minor": 5
}
